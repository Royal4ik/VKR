{
 "cells": [
  {
   "cell_type": "code",
   "execution_count": 18,
   "metadata": {},
   "outputs": [],
   "source": [
    "import pandas as pd"
   ]
  },
  {
   "cell_type": "code",
   "execution_count": 19,
   "metadata": {},
   "outputs": [],
   "source": [
    "p_data = pd.read_csv('data/positive.csv', sep=';', header=None)\n",
    "n_data = pd.read_csv('data/negative.csv', sep=';', header=None)"
   ]
  },
  {
   "cell_type": "code",
   "execution_count": 20,
   "metadata": {},
   "outputs": [],
   "source": [
    "dataset = pd.concat([p_data, n_data])"
   ]
  },
  {
   "cell_type": "code",
   "execution_count": 21,
   "metadata": {},
   "outputs": [
    {
     "data": {
      "text/html": [
       "<div>\n",
       "<style scoped>\n",
       "    .dataframe tbody tr th:only-of-type {\n",
       "        vertical-align: middle;\n",
       "    }\n",
       "\n",
       "    .dataframe tbody tr th {\n",
       "        vertical-align: top;\n",
       "    }\n",
       "\n",
       "    .dataframe thead th {\n",
       "        text-align: right;\n",
       "    }\n",
       "</style>\n",
       "<table border=\"1\" class=\"dataframe\">\n",
       "  <thead>\n",
       "    <tr style=\"text-align: right;\">\n",
       "      <th></th>\n",
       "      <th>text</th>\n",
       "      <th>label</th>\n",
       "    </tr>\n",
       "  </thead>\n",
       "  <tbody>\n",
       "    <tr>\n",
       "      <th>0</th>\n",
       "      <td>@first_timee хоть я и школота, но поверь, у на...</td>\n",
       "      <td>1</td>\n",
       "    </tr>\n",
       "    <tr>\n",
       "      <th>1</th>\n",
       "      <td>Да, все-таки он немного похож на него. Но мой ...</td>\n",
       "      <td>1</td>\n",
       "    </tr>\n",
       "    <tr>\n",
       "      <th>2</th>\n",
       "      <td>RT @KatiaCheh: Ну ты идиотка) я испугалась за ...</td>\n",
       "      <td>1</td>\n",
       "    </tr>\n",
       "  </tbody>\n",
       "</table>\n",
       "</div>"
      ],
      "text/plain": [
       "                                                text  label\n",
       "0  @first_timee хоть я и школота, но поверь, у на...      1\n",
       "1  Да, все-таки он немного похож на него. Но мой ...      1\n",
       "2  RT @KatiaCheh: Ну ты идиотка) я испугалась за ...      1"
      ]
     },
     "execution_count": 21,
     "metadata": {},
     "output_type": "execute_result"
    }
   ],
   "source": [
    "dataset = dataset[[3, 4]]\n",
    "dataset.columns = ['text', 'label']\n",
    "dataset[:3]"
   ]
  },
  {
   "cell_type": "code",
   "execution_count": 22,
   "metadata": {},
   "outputs": [],
   "source": [
    "import pymorphy2\n",
    "import re\n",
    "morph = pymorphy2.MorphAnalyzer()\n"
   ]
  },
  {
   "cell_type": "code",
   "execution_count": 23,
   "metadata": {},
   "outputs": [],
   "source": [
    "with open(\"data/stop-words.txt\", encoding=\"utf-8\") as sw: \n",
    "    stopwords = sw.read().splitlines()"
   ]
  },
  {
   "cell_type": "code",
   "execution_count": 24,
   "metadata": {},
   "outputs": [
    {
     "name": "stdout",
     "output_type": "stream",
     "text": [
      "Wall time: 11.2 s\n"
     ]
    }
   ],
   "source": [
    "%%time\n",
    "\n",
    "    \n",
    "def text_cleaner(text):\n",
    "    #к нижнему регистру\n",
    "    text = text.lower()\n",
    "    text = re.sub(r'^rt[\\s]+', '', text)\n",
    "    #очистка текста от тегов, упоминаний, ссылок\n",
    "    text = re.sub(r\"(?:@\\S*|#\\S*|http(?=.*://)\\S*)\", \"\", text)\n",
    "    #обработка смайлов\n",
    "    #text = re.sub(r\"(:\\||:3|d:)\", \" ( \", text)\n",
    "    #text = re.sub(r\"(:d|xd)\", \" ) \", text)\n",
    "    text = re.sub(r\"\\)\", \" ) \", text)\n",
    "    text = re.sub(r\"\\(\", \" ( \", text)\n",
    "    \n",
    "    text = re.sub(r\"!\", \" ! \", text)\n",
    "    text = re.sub(r\"\\?\", \" ? \", text)\n",
    "\n",
    "    text =' '.join(text.split())\n",
    "    \n",
    "    cleaned_text = ''\n",
    "    \n",
    "    for char in text:\n",
    "            if (char.isalpha()) or (char == ' ') or (char == '!') or (char == '?') or (char == '(') or (char == ')'):\n",
    "                cleaned_text += char\n",
    "    cleaned_text\n",
    "    result = []\n",
    "    for word in cleaned_text.split():\n",
    "        result.append(word)\n",
    "    return ' '.join(result)\n",
    "\n",
    "dataset['text'] = dataset['text'].apply(text_cleaner)\n",
    "\n",
    "dataset.to_csv('data/cleaned-data.csv')"
   ]
  },
  {
   "cell_type": "code",
   "execution_count": 10,
   "metadata": {},
   "outputs": [
    {
     "data": {
      "text/html": [
       "<div>\n",
       "<style scoped>\n",
       "    .dataframe tbody tr th:only-of-type {\n",
       "        vertical-align: middle;\n",
       "    }\n",
       "\n",
       "    .dataframe tbody tr th {\n",
       "        vertical-align: top;\n",
       "    }\n",
       "\n",
       "    .dataframe thead th {\n",
       "        text-align: right;\n",
       "    }\n",
       "</style>\n",
       "<table border=\"1\" class=\"dataframe\">\n",
       "  <thead>\n",
       "    <tr style=\"text-align: right;\">\n",
       "      <th></th>\n",
       "      <th>text</th>\n",
       "      <th>label</th>\n",
       "    </tr>\n",
       "  </thead>\n",
       "  <tbody>\n",
       "    <tr>\n",
       "      <th>0</th>\n",
       "      <td>хоть я и школота но поверь у нас то же самое d...</td>\n",
       "      <td>1</td>\n",
       "    </tr>\n",
       "    <tr>\n",
       "      <th>1</th>\n",
       "      <td>да всетаки он немного похож на него но мой мал...</td>\n",
       "      <td>1</td>\n",
       "    </tr>\n",
       "    <tr>\n",
       "      <th>2</th>\n",
       "      <td>ну ты идиотка я испугалась за тебя</td>\n",
       "      <td>1</td>\n",
       "    </tr>\n",
       "    <tr>\n",
       "      <th>3</th>\n",
       "      <td>кто то в углу сидит и погибает от голода а мы ...</td>\n",
       "      <td>1</td>\n",
       "    </tr>\n",
       "    <tr>\n",
       "      <th>4</th>\n",
       "      <td>вот что значит страшилка d но блинпосмотрев вс...</td>\n",
       "      <td>1</td>\n",
       "    </tr>\n",
       "    <tr>\n",
       "      <th>5</th>\n",
       "      <td>ну любишь или нет я не знаю кто ты бляd</td>\n",
       "      <td>1</td>\n",
       "    </tr>\n",
       "    <tr>\n",
       "      <th>6</th>\n",
       "      <td>ох d ну это конечно же чтобы у нее было много ...</td>\n",
       "      <td>1</td>\n",
       "    </tr>\n",
       "    <tr>\n",
       "      <th>7</th>\n",
       "      <td>у тебя есть ухажёр нет мои уши не кто не жрёт d</td>\n",
       "      <td>1</td>\n",
       "    </tr>\n",
       "    <tr>\n",
       "      <th>8</th>\n",
       "      <td>поприветствуем моего нового читателя</td>\n",
       "      <td>1</td>\n",
       "    </tr>\n",
       "    <tr>\n",
       "      <th>9</th>\n",
       "      <td>теперь у меня есть частичка сиднея</td>\n",
       "      <td>1</td>\n",
       "    </tr>\n",
       "    <tr>\n",
       "      <th>10</th>\n",
       "      <td>люблю маму и папу а в остальное я таквлюбляюсь...</td>\n",
       "      <td>1</td>\n",
       "    </tr>\n",
       "    <tr>\n",
       "      <th>11</th>\n",
       "      <td>както я забыла что вчера приехал из деревни на...</td>\n",
       "      <td>1</td>\n",
       "    </tr>\n",
       "    <tr>\n",
       "      <th>12</th>\n",
       "      <td>так было задумано да</td>\n",
       "      <td>1</td>\n",
       "    </tr>\n",
       "    <tr>\n",
       "      <th>13</th>\n",
       "      <td>дааааа ты ты ты и только ты</td>\n",
       "      <td>1</td>\n",
       "    </tr>\n",
       "    <tr>\n",
       "      <th>14</th>\n",
       "      <td>о нет вы ведь всё равно обзоры урезаете просто...</td>\n",
       "      <td>1</td>\n",
       "    </tr>\n",
       "    <tr>\n",
       "      <th>15</th>\n",
       "      <td>смотри там случайно в аспирантуру не попади на...</td>\n",
       "      <td>1</td>\n",
       "    </tr>\n",
       "    <tr>\n",
       "      <th>16</th>\n",
       "      <td>эхх а в угату о контрольных предупреждают уже ...</td>\n",
       "      <td>1</td>\n",
       "    </tr>\n",
       "    <tr>\n",
       "      <th>17</th>\n",
       "      <td>а а то подумала что у тебя там пробежечка</td>\n",
       "      <td>1</td>\n",
       "    </tr>\n",
       "    <tr>\n",
       "      <th>18</th>\n",
       "      <td>зря вы с этой хуйней шутите я много историй на...</td>\n",
       "      <td>1</td>\n",
       "    </tr>\n",
       "    <tr>\n",
       "      <th>19</th>\n",
       "      <td>очень главное спасибо for медвед он работал кл...</td>\n",
       "      <td>1</td>\n",
       "    </tr>\n",
       "  </tbody>\n",
       "</table>\n",
       "</div>"
      ],
      "text/plain": [
       "                                                 text  label\n",
       "0   хоть я и школота но поверь у нас то же самое d...      1\n",
       "1   да всетаки он немного похож на него но мой мал...      1\n",
       "2                  ну ты идиотка я испугалась за тебя      1\n",
       "3   кто то в углу сидит и погибает от голода а мы ...      1\n",
       "4   вот что значит страшилка d но блинпосмотрев вс...      1\n",
       "5             ну любишь или нет я не знаю кто ты бляd      1\n",
       "6   ох d ну это конечно же чтобы у нее было много ...      1\n",
       "7     у тебя есть ухажёр нет мои уши не кто не жрёт d      1\n",
       "8                поприветствуем моего нового читателя      1\n",
       "9                  теперь у меня есть частичка сиднея      1\n",
       "10  люблю маму и папу а в остальное я таквлюбляюсь...      1\n",
       "11  както я забыла что вчера приехал из деревни на...      1\n",
       "12                               так было задумано да      1\n",
       "13                        дааааа ты ты ты и только ты      1\n",
       "14  о нет вы ведь всё равно обзоры урезаете просто...      1\n",
       "15  смотри там случайно в аспирантуру не попади на...      1\n",
       "16  эхх а в угату о контрольных предупреждают уже ...      1\n",
       "17          а а то подумала что у тебя там пробежечка      1\n",
       "18  зря вы с этой хуйней шутите я много историй на...      1\n",
       "19  очень главное спасибо for медвед он работал кл...      1"
      ]
     },
     "execution_count": 10,
     "metadata": {},
     "output_type": "execute_result"
    }
   ],
   "source": [
    "dataset[:20]"
   ]
  },
  {
   "cell_type": "code",
   "execution_count": 6,
   "metadata": {},
   "outputs": [
    {
     "data": {
      "text/plain": [
       "'rt rt : ) ) . ? ,;;*&^% ! рѕрµс‚rtv 13323 ( ( ( ) ) ) )'"
      ]
     },
     "execution_count": 6,
     "metadata": {},
     "output_type": "execute_result"
    }
   ],
   "source": [
    "text= 'rt rt@Alex_Shvarz :)) .?,;;*&^%!@#$~Рћ, РЅРµС‚rtv 13323 :| :3 D: :d xd xd  :d'\n",
    "text = text.lower()\n",
    "    #очистка текста от тегов, упоминаний, ссылок\n",
    "text = re.sub(r\"(?:@\\S*|#\\S*|http(?=.*://)\\S*)\", \"\", text)\n",
    "text = re.sub(r\"(:\\||:3|d:)\", \" ( \", text)\n",
    "text = re.sub(r\"(:\\||:d|xd)\", \" ) \", text)\n",
    "text = re.sub(r\"!\", \" ! \", text)\n",
    "text = re.sub(r\"\\?\", \" ? \", text)\n",
    "\n",
    "\n",
    "text = re.sub(r\"\\)\", \" ) \", text)\n",
    "text = re.sub(r\"\\(\", \" ( \", text)\n",
    "text =' '.join(text.split())\n",
    "cleaned_text = ''\n",
    "for char in text:\n",
    "        if (char.isalpha()) or (char == ' ') or (char == '!') or (char == '?') or (char == '(') or (char == ')'):\n",
    "            cleaned_text += char\n",
    "text"
   ]
  },
  {
   "cell_type": "code",
   "execution_count": null,
   "metadata": {},
   "outputs": [],
   "source": []
  },
  {
   "cell_type": "code",
   "execution_count": null,
   "metadata": {},
   "outputs": [],
   "source": []
  }
 ],
 "metadata": {
  "kernelspec": {
   "display_name": "Python 3",
   "language": "python",
   "name": "python3"
  },
  "language_info": {
   "codemirror_mode": {
    "name": "ipython",
    "version": 3
   },
   "file_extension": ".py",
   "mimetype": "text/x-python",
   "name": "python",
   "nbconvert_exporter": "python",
   "pygments_lexer": "ipython3",
   "version": "3.7.3"
  }
 },
 "nbformat": 4,
 "nbformat_minor": 2
}
